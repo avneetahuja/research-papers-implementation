{
  "nbformat": 4,
  "nbformat_minor": 0,
  "metadata": {
    "colab": {
      "provenance": [],
      "authorship_tag": "ABX9TyPZPZKjfadfjp/APHzxd1S5",
      "include_colab_link": true
    },
    "kernelspec": {
      "name": "python3",
      "display_name": "Python 3"
    },
    "language_info": {
      "name": "python"
    }
  },
  "cells": [
    {
      "cell_type": "markdown",
      "metadata": {
        "id": "view-in-github",
        "colab_type": "text"
      },
      "source": [
        "<a href=\"https://colab.research.google.com/github/avneetahuja/research-papers-implementation/blob/main/vae_implementation_MNIST.ipynb\" target=\"_parent\"><img src=\"https://colab.research.google.com/assets/colab-badge.svg\" alt=\"Open In Colab\"/></a>"
      ]
    },
    {
      "cell_type": "code",
      "execution_count": 10,
      "metadata": {
        "id": "1WT5gPueBvYj"
      },
      "outputs": [],
      "source": [
        "import torch\n",
        "import torch.nn as nn\n",
        "import torch.nn.functional as F\n",
        "from torch.autograd import Variable\n",
        "import numpy as np\n",
        "import matplotlib.pyplot as plt\n",
        "import pandas as pd"
      ]
    },
    {
      "cell_type": "markdown",
      "source": [
        "-Encoder decoder architecture(nn for both)\n",
        "-USed MNIST and Frey Face datasets for training\n",
        "-sga for updating\n",
        "-hidden units of encoder = decoder\n",
        "- sample from a standard gaussian"
      ],
      "metadata": {
        "id": "REFOab_NB0ZX"
      }
    },
    {
      "cell_type": "markdown",
      "source": [
        "Lets start with just the encoder and move from there"
      ],
      "metadata": {
        "id": "U61rTzhzjjz2"
      }
    },
    {
      "cell_type": "markdown",
      "source": [],
      "metadata": {
        "id": "GfruHnH6a_JX"
      }
    },
    {
      "cell_type": "code",
      "source": [
        "class VAE_Encoder(nn.Module):\n",
        "  def __init__(self, in_features, h1, h2, h3, latent_size):\n",
        "      super(VAE_Encoder, self).__init__()\n",
        "      self.fc1 = nn.Linear(in_features, h1)\n",
        "      self.fc2 = nn.Linear(h1, h2)\n",
        "      self.fc3 = nn.Linear(h2, h3)\n",
        "      self.fc_mu = nn.Linear(h3, latent_size)  # Layer for mean\n",
        "      self.fc_logvar = nn.Linear(h3, latent_size)  # Layer for log-variance\n",
        "\n",
        "  def forward(self, x):\n",
        "      x = F.relu(self.fc1(x))\n",
        "      x = F.relu(self.fc2(x))\n",
        "      x = F.relu(self.fc3(x))\n",
        "      mu = self.fc_mu(x)  # Mean of the latent space\n",
        "      logvar = self.fc_logvar(x)  # Log-variance of the latent space\n",
        "      return mu, logvar\n"
      ],
      "metadata": {
        "id": "ZpuwlFe_EY6a"
      },
      "execution_count": 11,
      "outputs": []
    },
    {
      "cell_type": "code",
      "source": [
        "#Lets load the MNIST dataset\n",
        "from torchvision import datasets, transforms\n",
        "from torch.utils.data import DataLoader\n",
        "transform = transforms.Compose([\n",
        "    transforms.ToTensor(),  # Convert PIL Image to tensor\n",
        "    # transforms.Normalize(0.1307, 0.3081)  # Normalize to mean=0.1307, std=0.3081\n",
        "])\n",
        "mnist_train = datasets.MNIST(root='./datasets', train=True, transform=transform, download=True)\n",
        "mnist_test = datasets.MNIST(root='./datasets', train=False, transform=transforms.ToTensor(), download=True)\n",
        "train_loader = DataLoader(mnist_train, batch_size=64, shuffle=True)\n",
        "test_loader = DataLoader(mnist_test, batch_size=64, shuffle=True)"
      ],
      "metadata": {
        "id": "esp1y0-ylRiX"
      },
      "execution_count": 24,
      "outputs": []
    },
    {
      "cell_type": "code",
      "source": [
        "model = VAE_Encoder(784, 512, 256, 128, 32)\n",
        "results=[]"
      ],
      "metadata": {
        "id": "GbuZwlsrpqdH"
      },
      "execution_count": 25,
      "outputs": []
    },
    {
      "cell_type": "code",
      "source": [
        "for images, labels in train_loader:\n",
        "  # print(images.mean().item(), images.std().item())\n",
        "  images = images.reshape(images.size(0),-1)\n",
        "  results.append(model(images))"
      ],
      "metadata": {
        "id": "HdGRV246lx3M"
      },
      "execution_count": 26,
      "outputs": []
    },
    {
      "cell_type": "code",
      "source": [
        "print(results[-2][0].shape)"
      ],
      "metadata": {
        "colab": {
          "base_uri": "https://localhost:8080/"
        },
        "id": "JcyTdffQqK5F",
        "outputId": "4a0972f6-fb1d-4d7a-fdcf-15a41ce957d5"
      },
      "execution_count": 27,
      "outputs": [
        {
          "output_type": "stream",
          "name": "stdout",
          "text": [
            "torch.Size([64, 32])\n"
          ]
        }
      ]
    },
    {
      "cell_type": "markdown",
      "source": [
        "now that we have the encoder, lets work on the reparameterization trick mentioned in the paper for sampling z"
      ],
      "metadata": {
        "id": "u_XTXXF3kiMV"
      }
    },
    {
      "cell_type": "code",
      "source": [
        "class VAE_Encoder_With_ReParameterization(nn.Module):\n",
        "  def __init__(self, in_features, h1, h2, h3, latent_size):\n",
        "      super(VAE_Encoder_With_ReParameterization, self).__init__()\n",
        "      self.fc1 = nn.Linear(in_features, h1)\n",
        "      self.fc2 = nn.Linear(h1, h2)\n",
        "      self.fc3 = nn.Linear(h2, h3)\n",
        "      self.fc_mu = nn.Linear(h3, latent_size)  # Layer for mean\n",
        "      self.fc_logvar = nn.Linear(h3, latent_size)  # Layer for log-variance\n",
        "\n",
        "  def reparameterizer(self,mu,logvar):\n",
        "    std = torch.exp(0.5*logvar)\n",
        "    eps = torch.randn_like(std)\n",
        "    return mu + eps*std\n",
        "\n",
        "  def forward(self, x):\n",
        "      x = F.relu(self.fc1(x))\n",
        "      x = F.relu(self.fc2(x))\n",
        "      x = F.relu(self.fc3(x))\n",
        "      mu = self.fc_mu(x)  # Mean of the latent space\n",
        "      logvar = self.fc_logvar(x)  # Log-variance of the latent space\n",
        "      z = self.reparameterizer(mu,logvar)\n",
        "      return z, mu, logvar"
      ],
      "metadata": {
        "id": "mee-_0IeEWHf"
      },
      "execution_count": 28,
      "outputs": []
    },
    {
      "cell_type": "code",
      "source": [
        "encoder = VAE_Encoder_With_ReParameterization(784, 392, 196, 128, 20)\n",
        "dummy_input = torch.randn(64, 784)  # Batch size = 64, input features = 784\n",
        "z, mu, logvar = encoder(dummy_input)\n",
        "print(\"z shape:\", z.shape)\n",
        "print(\"mu shape:\", mu.shape)\n",
        "print(\"logvar shape:\", logvar.shape)\n"
      ],
      "metadata": {
        "colab": {
          "base_uri": "https://localhost:8080/"
        },
        "id": "WzOwIFPjBzwu",
        "outputId": "0852e417-b580-48d7-a6ca-d6d1c58509e8"
      },
      "execution_count": 29,
      "outputs": [
        {
          "output_type": "stream",
          "name": "stdout",
          "text": [
            "z shape: torch.Size([64, 20])\n",
            "mu shape: torch.Size([64, 20])\n",
            "logvar shape: torch.Size([64, 20])\n"
          ]
        }
      ]
    },
    {
      "cell_type": "markdown",
      "source": [
        "OK Now we can work towards the decoder and finally define the custom loss function\n"
      ],
      "metadata": {
        "id": "AReHXJ7TCkCF"
      }
    },
    {
      "cell_type": "code",
      "source": [
        "class VAE_Encoder_Decoder_ReParam(nn.Module):\n",
        "\n",
        "  def __init__(self, in_features, h1, h2, h3, latent_size):\n",
        "    super(VAE_Encoder_Decoder_ReParam, self).__init__()\n",
        "    self.fc1 = nn.Linear(in_features, h1)\n",
        "    self.fc2 = nn.Linear(h1, h2)\n",
        "    self.fc3 = nn.Linear(h2, h3)\n",
        "    self.fc_mu = nn.Linear(h3, latent_size)  # Layer for mean\n",
        "    self.fc_logvar = nn.Linear(h3, latent_size)  # Layer for log-variance\n",
        "    self.fc4 = nn.Linear(latent_size, h3)\n",
        "    self.fc5 = nn.Linear(h3, h2)\n",
        "    self.fc6 = nn.Linear(h2, h1)\n",
        "    self.out = nn.Linear(h1, in_features)\n",
        "\n",
        "  def reparameterizer(self,mu,logvar):\n",
        "    std = torch.exp(0.5*logvar)\n",
        "    eps = torch.randn_like(std)\n",
        "    return mu + eps*std\n",
        "\n",
        "  def forward(self, x):\n",
        "    x = F.relu(self.fc1(x))\n",
        "    x = F.relu(self.fc2(x))\n",
        "    x = F.relu(self.fc3(x))\n",
        "    mu = self.fc_mu(x)\n",
        "    logvar = self.fc_logvar(x)\n",
        "    z = self.reparameterizer(mu,logvar)\n",
        "    x = F.relu(self.fc4(z))\n",
        "    x = F.relu(self.fc5(x))\n",
        "    x = F.relu(self.fc6(x))\n",
        "    x = torch.sigmoid(self.out(x))\n",
        "    return x, mu, logvar"
      ],
      "metadata": {
        "id": "VH5APop5CtaC"
      },
      "execution_count": 30,
      "outputs": []
    },
    {
      "cell_type": "code",
      "source": [
        "model = VAE_Encoder_Decoder_ReParam(784, 392, 196, 128, 20)\n",
        "dummy_input = torch.randn(64, 784)\n",
        "reconstructed, mu, logvar = model(dummy_input)\n",
        "print(\"Reconstructed shape:\", reconstructed.shape)\n",
        "print(\"mu shape:\", mu.shape)\n",
        "print(\"logvar shape:\", logvar.shape)"
      ],
      "metadata": {
        "colab": {
          "base_uri": "https://localhost:8080/"
        },
        "id": "DxlGt1l9DyAO",
        "outputId": "12e9915b-988b-471e-dcc4-bb891bf66104"
      },
      "execution_count": 31,
      "outputs": [
        {
          "output_type": "stream",
          "name": "stdout",
          "text": [
            "Reconstructed shape: torch.Size([64, 784])\n",
            "mu shape: torch.Size([64, 20])\n",
            "logvar shape: torch.Size([64, 20])\n"
          ]
        }
      ]
    },
    {
      "cell_type": "markdown",
      "source": [
        "OK seems ike its working as expected, now we need to make a loss function that does BCE + KLD"
      ],
      "metadata": {
        "id": "EFdaFOU_FlXo"
      }
    },
    {
      "cell_type": "code",
      "source": [
        "class VAE_Encoder_Decoder_ReParam_With_Loss(nn.Module):\n",
        "\n",
        "  def __init__(self, in_features, h1, h2, h3, latent_size):\n",
        "    super(VAE_Encoder_Decoder_ReParam_With_Loss, self).__init__()\n",
        "    self.fc1 = nn.Linear(in_features, h1)\n",
        "    self.fc2 = nn.Linear(h1, h2)\n",
        "    self.fc3 = nn.Linear(h2, h3)\n",
        "    self.fc_mu = nn.Linear(h3, latent_size)  # Layer for mean\n",
        "    self.fc_logvar = nn.Linear(h3, latent_size)  # Layer for log-variance\n",
        "    self.fc4 = nn.Linear(latent_size, h3)\n",
        "    self.fc5 = nn.Linear(h3, h2)\n",
        "    self.fc6 = nn.Linear(h2, h1)\n",
        "    self.out = nn.Linear(h1, in_features)\n",
        "\n",
        "  def reparameterizer(self,mu,logvar):\n",
        "    std = torch.exp(0.5*logvar)\n",
        "    eps = torch.randn_like(std)\n",
        "    return mu + eps*std\n",
        "\n",
        "  def loss_function(self,x, reconstructed, mu, logvar):\n",
        "    BCE = F.binary_cross_entropy(reconstructed,x,reduction='sum')\n",
        "    KLD = -0.5 * torch.sum(1 + logvar - mu.pow(2) - logvar.exp())\n",
        "    return BCE + KLD\n",
        "\n",
        "  def forward(self, x):\n",
        "    x = F.relu(self.fc1(x))\n",
        "    x = F.relu(self.fc2(x))\n",
        "    x = F.relu(self.fc3(x))\n",
        "\n",
        "    mu = self.fc_mu(x)\n",
        "    logvar = self.fc_logvar(x)\n",
        "    z = self.reparameterizer(mu,logvar)\n",
        "\n",
        "    x = F.relu(self.fc4(z))\n",
        "    x = F.relu(self.fc5(x))\n",
        "    x = F.relu(self.fc6(x))\n",
        "    x = torch.sigmoid(self.out(x))\n",
        "    return x, mu, logvar"
      ],
      "metadata": {
        "id": "eWnzi_zqDym7"
      },
      "execution_count": 20,
      "outputs": []
    },
    {
      "cell_type": "code",
      "source": [
        "# Import required module for the optimizer\n",
        "import torch.optim as optim\n",
        "\n",
        "# Initialize the model, optimizer, and number of epochs\n",
        "model = VAE_Encoder_Decoder_ReParam_With_Loss(784, 392, 196, 128, 20)\n",
        "optimizer = optim.Adam(model.parameters(), lr=1e-3)\n",
        "num_epochs = 10\n",
        "\n",
        "# Training loop\n",
        "for epoch in range(num_epochs):\n",
        "    model.train()\n",
        "    train_loss = 0\n",
        "    for image, label in train_loader:\n",
        "        # Flatten the images\n",
        "        image = image.view(image.size(0), -1)\n",
        "\n",
        "        # Forward pass\n",
        "        reconstructed, mu, logvar = model(image)\n",
        "\n",
        "        # Compute the loss\n",
        "        loss = model.loss_function(image, reconstructed, mu, logvar)\n",
        "\n",
        "        # Backward pass\n",
        "        optimizer.zero_grad()\n",
        "        loss.backward()\n",
        "        optimizer.step()\n",
        "\n",
        "        # Accumulate loss for monitoring\n",
        "        train_loss += loss.item()\n",
        "\n",
        "    # Average loss per epoch\n",
        "    avg_loss = train_loss / len(train_loader.dataset)\n",
        "    print(f\"Epoch [{epoch+1}/{num_epochs}], Loss: {avg_loss:.4f}\")\n"
      ],
      "metadata": {
        "colab": {
          "base_uri": "https://localhost:8080/"
        },
        "id": "pmwNSwzOIDOU",
        "outputId": "123f0102-828a-4109-b6df-47c3dd23f913"
      },
      "execution_count": 33,
      "outputs": [
        {
          "output_type": "stream",
          "name": "stdout",
          "text": [
            "Epoch [1/10], Loss: 178.1611\n",
            "Epoch [2/10], Loss: 136.7360\n",
            "Epoch [3/10], Loss: 128.2132\n",
            "Epoch [4/10], Loss: 124.8584\n",
            "Epoch [5/10], Loss: 122.5569\n",
            "Epoch [6/10], Loss: 120.8085\n",
            "Epoch [7/10], Loss: 119.5795\n",
            "Epoch [8/10], Loss: 117.9781\n",
            "Epoch [9/10], Loss: 116.0543\n",
            "Epoch [10/10], Loss: 114.4731\n"
          ]
        }
      ]
    },
    {
      "cell_type": "code",
      "source": [
        "import matplotlib.pyplot as plt\n",
        "\n",
        "# Set the model to evaluation mode\n",
        "model.eval()\n",
        "\n",
        "# Fetch a single batch of test data\n",
        "images, labels = next(iter(test_loader))\n",
        "\n",
        "# Flatten the images to match the model's input shape\n",
        "images_flat = images.view(images.size(0), -1)\n",
        "\n",
        "# Pass the images through the model to get the reconstructed output\n",
        "with torch.no_grad():  # No gradients needed during evaluation\n",
        "    reconstructed, _, _ = model(images_flat)\n",
        "\n",
        "# Reshape the reconstructed images back to their original shape\n",
        "reconstructed_images = reconstructed.view(images.size(0), 1, 28, 28)\n",
        "\n",
        "# Plot original and reconstructed images side by side\n",
        "num_images = 10  # Number of images to visualize\n",
        "fig, axes = plt.subplots(2, num_images, figsize=(15, 4))\n",
        "\n",
        "for i in range(num_images):\n",
        "    # Original images (top row)\n",
        "    axes[0, i].imshow(images[i].squeeze(), cmap='gray')\n",
        "    axes[0, i].axis('off')\n",
        "    axes[0, i].set_title(\"Original\")\n",
        "\n",
        "    # Reconstructed images (bottom row)\n",
        "    axes[1, i].imshow(reconstructed_images[i].squeeze(), cmap='gray')\n",
        "    axes[1, i].axis('off')\n",
        "    axes[1, i].set_title(\"Reconstructed\")\n",
        "\n",
        "plt.tight_layout()\n",
        "plt.show()\n"
      ],
      "metadata": {
        "colab": {
          "base_uri": "https://localhost:8080/",
          "height": 374
        },
        "id": "tDTlY3iaId30",
        "outputId": "c94dee63-3ec7-423f-f8d0-5ada3c554315"
      },
      "execution_count": 38,
      "outputs": [
        {
          "output_type": "display_data",
          "data": {
            "text/plain": [
              "<Figure size 1500x400 with 20 Axes>"
            ],
            "image/png": "[encoded data removed]"
          },
          "metadata": {}
        }
      ]
    },
    {
      "cell_type": "code",
      "source": [
        "# Generation code provided by gpt:\n",
        "import matplotlib.pyplot as plt\n",
        "\n",
        "# Set the model to evaluation mode\n",
        "model.eval()\n",
        "\n",
        "# Number of new images to generate\n",
        "num_samples = 10\n",
        "\n",
        "# Latent dimension (should match the `latent_size` used in your model)\n",
        "latent_dim = 20\n",
        "\n",
        "# Generate random latent vectors z from a standard normal distribution\n",
        "z = torch.randn(num_samples, latent_dim)\n",
        "\n",
        "# Pass the latent vectors through the decoder to generate images\n",
        "with torch.no_grad():  # No gradients needed during inference\n",
        "    generated = model.fc4(z)  # Start decoding from the latent layer\n",
        "    generated = F.relu(model.fc5(generated))\n",
        "    generated = F.relu(model.fc6(generated))\n",
        "    generated = torch.sigmoid(model.out(generated))  # Ensure outputs are in [0, 1]\n",
        "\n",
        "# Reshape generated images to their original dimensions (e.g., 28x28)\n",
        "generated_images = generated.view(num_samples, 1, 28, 28)\n",
        "\n",
        "# Plot the generated images\n",
        "fig, axes = plt.subplots(1, num_samples, figsize=(15, 3))\n",
        "\n",
        "for i in range(num_samples):\n",
        "    axes[i].imshow(generated_images[i].squeeze(), cmap='gray')\n",
        "    axes[i].axis('off')\n",
        "    axes[i].set_title(f\"Sample {i+1}\")\n",
        "\n",
        "plt.tight_layout()\n",
        "plt.show()\n"
      ],
      "metadata": {
        "colab": {
          "base_uri": "https://localhost:8080/",
          "height": 192
        },
        "id": "-VMqd_G3N_Dh",
        "outputId": "356e9180-6f76-4fe1-a157-db735cb8a80a"
      },
      "execution_count": 44,
      "outputs": [
        {
          "output_type": "display_data",
          "data": {
            "text/plain": [
              "<Figure size 1500x300 with 10 Axes>"
            ],
            "image/png": "[encoded data removed]"
          },
          "metadata": {}
        }
      ]
    },
    {
      "cell_type": "code",
      "source": [],
      "metadata": {
        "id": "CZBxiE90arTQ"
      },
      "execution_count": 41,
      "outputs": []
    }
  ]
}